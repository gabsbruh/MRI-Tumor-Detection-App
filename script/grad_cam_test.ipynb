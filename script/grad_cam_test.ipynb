{
 "cells": [
  {
   "cell_type": "code",
   "execution_count": 1,
   "metadata": {},
   "outputs": [],
   "source": [
    "from IPython.display import Image, display\n",
    "import matplotlib as mpl\n",
    "import matplotlib.pyplot as plt\n",
    "import numpy as np\n",
    "import sklearn\n",
    "import tensorflow as tf\n",
    "import keras\n",
    "import cv2\n",
    "import os"
   ]
  },
  {
   "cell_type": "markdown",
   "metadata": {},
   "source": [
    "load images"
   ]
  },
  {
   "cell_type": "code",
   "execution_count": 2,
   "metadata": {},
   "outputs": [],
   "source": [
    "no_path = '../archive/brain_tumor_dataset/no'\n",
    "yes_path = '../archive/brain_tumor_dataset/yes'\n",
    "images = []\n",
    "labels = [] # label 0 is no tumor, label 1 tumor occurs\n",
    "for path in (no_path, yes_path):\n",
    "    if path == no_path:\n",
    "        default_label = 0\n",
    "    elif path == yes_path:\n",
    "        default_label = 1\n",
    "    else:\n",
    "        raise(Exception(\"What's going on?? No such file or directory\"))\n",
    "    \n",
    "    for filename in os.listdir(path):\n",
    "        img_path = os.path.join(path, filename)\n",
    "        \n",
    "        img = cv2.imread(img_path)\n",
    "        \n",
    "        # resize to convenient shape for CNN's\n",
    "        img = cv2.resize(img, (224,224))\n",
    "        \n",
    "        # # cnn's need shape in rgb format, so i repeat one layer to 3\n",
    "        # img = np.repeat(img, 3, axis=-1)\n",
    "        \n",
    "        images.append(img)\n",
    "        labels.append(default_label)\n",
    "\n",
    "images = np.array(images)\n",
    "labels = np.array(labels)"
   ]
  },
  {
   "cell_type": "markdown",
   "metadata": {},
   "source": []
  },
  {
   "cell_type": "code",
   "execution_count": 3,
   "metadata": {},
   "outputs": [
    {
     "name": "stdout",
     "output_type": "stream",
     "text": [
      "Epoch 1/30\n",
      "\u001b[1m7/7\u001b[0m \u001b[32m━━━━━━━━━━━━━━━━━━━━\u001b[0m\u001b[37m\u001b[0m \u001b[1m32s\u001b[0m 4s/step - accuracy: 0.5317 - loss: 17.5881 - recall: 0.5317 - val_accuracy: 0.6667 - val_loss: 7.6033 - val_recall: 0.6667\n",
      "Epoch 2/30\n",
      "\u001b[1m7/7\u001b[0m \u001b[32m━━━━━━━━━━━━━━━━━━━━\u001b[0m\u001b[37m\u001b[0m \u001b[1m29s\u001b[0m 4s/step - accuracy: 0.8251 - loss: 4.6828 - recall: 0.8251 - val_accuracy: 0.8824 - val_loss: 1.3116 - val_recall: 0.8824\n",
      "Epoch 3/30\n",
      "\u001b[1m7/7\u001b[0m \u001b[32m━━━━━━━━━━━━━━━━━━━━\u001b[0m\u001b[37m\u001b[0m \u001b[1m29s\u001b[0m 4s/step - accuracy: 0.9123 - loss: 1.4995 - recall: 0.9123 - val_accuracy: 0.8431 - val_loss: 3.8660 - val_recall: 0.8431\n",
      "Epoch 4/30\n",
      "\u001b[1m7/7\u001b[0m \u001b[32m━━━━━━━━━━━━━━━━━━━━\u001b[0m\u001b[37m\u001b[0m \u001b[1m31s\u001b[0m 4s/step - accuracy: 0.9395 - loss: 0.8694 - recall: 0.9395 - val_accuracy: 0.9216 - val_loss: 1.7776 - val_recall: 0.9216\n",
      "Epoch 5/30\n",
      "\u001b[1m7/7\u001b[0m \u001b[32m━━━━━━━━━━━━━━━━━━━━\u001b[0m\u001b[37m\u001b[0m \u001b[1m29s\u001b[0m 4s/step - accuracy: 0.9613 - loss: 0.6028 - recall: 0.9613 - val_accuracy: 0.9216 - val_loss: 1.5441 - val_recall: 0.9216\n",
      "Epoch 6/30\n",
      "\u001b[1m7/7\u001b[0m \u001b[32m━━━━━━━━━━━━━━━━━━━━\u001b[0m\u001b[37m\u001b[0m \u001b[1m28s\u001b[0m 4s/step - accuracy: 0.9964 - loss: 0.0270 - recall: 0.9964 - val_accuracy: 0.9020 - val_loss: 1.6177 - val_recall: 0.9020\n",
      "Epoch 7/30\n",
      "\u001b[1m7/7\u001b[0m \u001b[32m━━━━━━━━━━━━━━━━━━━━\u001b[0m\u001b[37m\u001b[0m \u001b[1m29s\u001b[0m 4s/step - accuracy: 0.9823 - loss: 0.1633 - recall: 0.9823 - val_accuracy: 0.9412 - val_loss: 1.2486 - val_recall: 0.9412\n",
      "Epoch 8/30\n",
      "\u001b[1m7/7\u001b[0m \u001b[32m━━━━━━━━━━━━━━━━━━━━\u001b[0m\u001b[37m\u001b[0m \u001b[1m30s\u001b[0m 4s/step - accuracy: 1.0000 - loss: 1.3502e-06 - recall: 1.0000 - val_accuracy: 0.9608 - val_loss: 1.2017 - val_recall: 0.9608\n",
      "Epoch 9/30\n",
      "\u001b[1m7/7\u001b[0m \u001b[32m━━━━━━━━━━━━━━━━━━━━\u001b[0m\u001b[37m\u001b[0m \u001b[1m30s\u001b[0m 4s/step - accuracy: 1.0000 - loss: 0.0000e+00 - recall: 1.0000 - val_accuracy: 0.9608 - val_loss: 1.1966 - val_recall: 0.9608\n",
      "Epoch 10/30\n",
      "\u001b[1m7/7\u001b[0m \u001b[32m━━━━━━━━━━━━━━━━━━━━\u001b[0m\u001b[37m\u001b[0m \u001b[1m28s\u001b[0m 4s/step - accuracy: 1.0000 - loss: 0.0000e+00 - recall: 1.0000 - val_accuracy: 0.9608 - val_loss: 1.1961 - val_recall: 0.9608\n",
      "Epoch 11/30\n",
      "\u001b[1m7/7\u001b[0m \u001b[32m━━━━━━━━━━━━━━━━━━━━\u001b[0m\u001b[37m\u001b[0m \u001b[1m29s\u001b[0m 4s/step - accuracy: 1.0000 - loss: 0.0000e+00 - recall: 1.0000 - val_accuracy: 0.9608 - val_loss: 1.1965 - val_recall: 0.9608\n",
      "\u001b[1m2/2\u001b[0m \u001b[32m━━━━━━━━━━━━━━━━━━━━\u001b[0m\u001b[37m\u001b[0m \u001b[1m6s\u001b[0m 2s/step\n"
     ]
    }
   ],
   "source": [
    "from sklearn.model_selection import train_test_split\n",
    "# preprocess images to fit for vgg19\n",
    "vgg16_images = keras.applications.vgg16.preprocess_input(images)\n",
    "\n",
    "def split_data(images_list, train_size: float=0.8, random_state: int=112):\n",
    "    \"\"\"Prepare data for CNN's. Split data by sklearn.model_selection.train_test_split, convert to np.array type, and categorize labels.\n",
    "\n",
    "    Args:\n",
    "        images_list (Iterable): Allowed inputs are lists, numpy arrays, scipy-sparse matrices or pandas dataframes.\n",
    "        train_size (float, Optional): Should be between 0.0 and 1.0 and represent the proportion of the dataset to include in the train split. Defaults to 0.8.\n",
    "        random_state (int, Optional): Controls the shuffling applied to the data before applying the split. Pass an int for reproducible output across multiple function calls. Defaults to 112.\n",
    "        \n",
    "    \"\"\"\n",
    "    X_train, X_test, y_train, y_test = train_test_split(images, labels, train_size=train_size, random_state=random_state) # images is raw data without being preprocessed, \n",
    "    # optionally load here preprocessed data by cnn's own algorithm instead, for example vgg16_images (every cnn has its own prep. algorithm)\n",
    "    X_train, X_test, y_train, y_test = np.array(X_train), np.array(X_test), np.array(y_train), np.array(y_test)\n",
    "    y_train = tf.keras.utils.to_categorical(y_train, num_classes=2)\n",
    "    y_test = tf.keras.utils.to_categorical(y_test, num_classes=2)\n",
    "    return X_train, X_test, y_train, y_test\n",
    "\n",
    "X_train, X_test, y_train, y_test = split_data(vgg16_images)\n",
    "\n",
    "vgg16_base_model = keras.applications.vgg16.VGG16(\n",
    "    include_top=False,\n",
    "    weights='imagenet',\n",
    "    input_shape=(224,224,3)\n",
    ")\n",
    "\n",
    "for layer in vgg16_base_model.layers:\n",
    "    layer.trainable = False \n",
    "x = keras.layers.Flatten()(vgg16_base_model.output)\n",
    "x = keras.layers.Dense(2, activation='softmax')(x)  # 2 klasy\n",
    "vgg16_model = keras.models.Model(inputs=vgg16_base_model.input, outputs=x)\n",
    "\n",
    "# compile with categorical crossentropy, using adam optimizer, where metric to be valued is recall, accuracy\n",
    "vgg16_model.compile(optimizer='adam', loss='categorical_crossentropy', metrics=['recall', 'accuracy'])\n",
    "\n",
    "# callback to stop epochs when satisfying outcome\n",
    "early_stopping = keras.callbacks.EarlyStopping(\n",
    "    monitor='val_recall',  \n",
    "    patience=3,               \n",
    "    restore_best_weights=True \n",
    ")\n",
    "\n",
    "# fit data with validation\n",
    "vgg16_history = vgg16_model.fit(X_train, y_train, epochs=30, validation_data=(X_test, y_test), callbacks=[early_stopping], verbose=1)\n",
    "vgg19_predictions = vgg16_model.predict(X_test)"
   ]
  },
  {
   "cell_type": "markdown",
   "metadata": {},
   "source": [
    "create model of grad cam"
   ]
  },
  {
   "cell_type": "code",
   "execution_count": 40,
   "metadata": {},
   "outputs": [
    {
     "data": {
      "image/png": "[encoded data removed]",
      "text/plain": [
       "<IPython.core.display.Image object>"
      ]
     },
     "metadata": {},
     "output_type": "display_data"
    }
   ],
   "source": [
    "\n",
    "\n",
    "img_size = (224, 224)\n",
    "\n",
    "decode_predictions = keras.applications.vgg16.decode_predictions\n",
    "\n",
    "last_conv_layer_name = \"block5_conv3\"\n",
    "\n",
    "## The local path to our target image\n",
    "\n",
    "img_path= \"../archive/test/Y_new.png\"\n",
    "\n",
    "display(Image(img_path))\n",
    "def get_img_array(img_path, size):\n",
    "    ## `img` is a PIL image \n",
    "    img = keras.utils.load_img(img_path, target_size=size)\n",
    "    array = keras.utils.img_to_array(img)\n",
    "    ## We add a dimension to transform our array into a \"batch\"\n",
    "    array = np.expand_dims(array, axis=0)\n",
    "    return array\n",
    "\n",
    "\n",
    "def make_gradcam_heatmap(img_array, model, last_conv_layer_name, pred_index=None):\n",
    "    ## First, we create a model that maps the input image to the activations\n",
    "    ## of the last conv layer as well as the output predictions\n",
    "    grad_model = keras.models.Model(\n",
    "        model.inputs, [model.get_layer(last_conv_layer_name).output, model.output]\n",
    "    )\n",
    "\n",
    "    ## Then, we compute the gradient of the top predicted class for our input image\n",
    "    ## for the activations of the last conv layer\n",
    "    with tf.GradientTape() as tape:\n",
    "        last_conv_layer_output, preds = grad_model(img_array)\n",
    "        if pred_index is None:\n",
    "            pred_index = tf.argmax(preds[0])\n",
    "        class_channel = preds[:, pred_index]\n",
    "\n",
    "    ## We are doing transfer learning on last layer\n",
    "    grads = tape.gradient(class_channel, last_conv_layer_output)\n",
    "\n",
    "    ## This is a vector where each entry is the mean intensity of the gradient\n",
    "    pooled_grads = tf.reduce_mean(grads, axis=(0, 1, 2))\n",
    "\n",
    "    ## calculates a heatmap highlighting the regions of importance in an image\n",
    "    ## for a specific \n",
    "    ## predicted class by combining the output of the last convolutional layer\n",
    "    ## with the pooled gradients.\n",
    "    last_conv_layer_output = last_conv_layer_output[0]\n",
    "    heatmap = last_conv_layer_output @ pooled_grads[..., tf.newaxis]\n",
    "    heatmap = tf.squeeze(heatmap)\n",
    "\n",
    "    ## For visualization purpose\n",
    "    heatmap = tf.maximum(heatmap, 0) / tf.math.reduce_max(heatmap)\n",
    "    return heatmap.numpy()"
   ]
  },
  {
   "cell_type": "markdown",
   "metadata": {},
   "source": [
    "heatmap of image with model"
   ]
  },
  {
   "cell_type": "code",
   "execution_count": 41,
   "metadata": {},
   "outputs": [
    {
     "name": "stdout",
     "output_type": "stream",
     "text": [
      "\u001b[1m1/1\u001b[0m \u001b[32m━━━━━━━━━━━━━━━━━━━━\u001b[0m\u001b[37m\u001b[0m \u001b[1m1s\u001b[0m 720ms/step\n",
      "Predykcja dla obrazu: Tumor z pewnością 1409.95%\n"
     ]
    },
    {
     "data": {
      "image/png": "[encoded data removed]",
      "text/plain": [
       "<Figure size 480x480 with 1 Axes>"
      ]
     },
     "metadata": {},
     "output_type": "display_data"
    }
   ],
   "source": [
    "## Preparing the image\n",
    "img_array = keras.applications.vgg16.preprocess_input(get_img_array(img_path, size=img_size))\n",
    "\n",
    "## Remove last layer's softmax(transfer learning)\n",
    "vgg16_model.layers[-1].activation = None\n",
    "\n",
    "preds = vgg16_model.predict(img_array)\n",
    "class_names = [\"No Tumor\", \"Tumor\"]\n",
    "predicted_class = class_names[np.argmax(preds)]\n",
    "confidence = np.max(preds) * 100\n",
    "\n",
    "print(f\"Predykcja dla obrazu: {predicted_class} z pewnością {confidence:.2f}%\")\n",
    "## Generate class activation heatmap\n",
    "heatmap = make_gradcam_heatmap(img_array, vgg16_model, last_conv_layer_name)\n",
    "\n",
    "## visulization of heatmap\n",
    "plt.matshow(heatmap)\n",
    "plt.show()"
   ]
  },
  {
   "cell_type": "markdown",
   "metadata": {},
   "source": [
    "save and display vis"
   ]
  },
  {
   "cell_type": "code",
   "execution_count": 42,
   "metadata": {},
   "outputs": [
    {
     "data": {
      "image/jpeg": "[encoded data removed]",
      "text/plain": [
       "<IPython.core.display.Image object>"
      ]
     },
     "metadata": {},
     "output_type": "display_data"
    }
   ],
   "source": [
    "def save_and_display_gradcam(img_path, heatmap, cam_path=\"save_cam_image.jpg\", alpha=0.4):\n",
    "    ## Loading the original image\n",
    "    img = keras.utils.load_img(img_path)\n",
    "    img = keras.utils.img_to_array(img)\n",
    "\n",
    "    ## Rescale heatmap to a range 0-255\n",
    "    heatmap = np.uint8(255 * heatmap)\n",
    "\n",
    "    ## Use jet colormap to colorize heatmap\n",
    "    jet = mpl.colormaps[\"jet\"]\n",
    "\n",
    "    jet_colors = jet(np.arange(256))[:, :3]\n",
    "    jet_heatmap = jet_colors[heatmap]\n",
    "\n",
    "    ## Create an image with RGB colorized heatmap\n",
    "    jet_heatmap = keras.utils.array_to_img(jet_heatmap)\n",
    "    jet_heatmap = jet_heatmap.resize((img.shape[1], img.shape[0]))\n",
    "    jet_heatmap = keras.utils.img_to_array(jet_heatmap)\n",
    "\n",
    "    ## Superimpose the heatmap on original image\n",
    "    Superimposed_img = jet_heatmap * alpha + img\n",
    "    Superimposed_img = keras.utils.array_to_img(Superimposed_img)\n",
    "\n",
    "    ## Save the superimposed image\n",
    "    Superimposed_img.save(cam_path)\n",
    "\n",
    "    ## Displaying Grad CAM\n",
    "    display(Image(cam_path))\n",
    "\n",
    "\n",
    "save_and_display_gradcam(img_path, heatmap)"
   ]
  },
  {
   "cell_type": "markdown",
   "metadata": {},
   "source": [
    "test class"
   ]
  },
  {
   "cell_type": "code",
   "execution_count": null,
   "metadata": {},
   "outputs": [],
   "source": [
    "from grad_cam import GradCam\n",
    "from keras.models import load_model\n",
    "\n",
    "model = load_model('../models/VGG_16.keras')\n",
    "grad_cam = GradCam(model)\n",
    "\n",
    "heatmap = grad_cam.compute_heatmap(preprocessed_img,  class_idx=0)\n",
    "self.image_w_grad_original = self.grad_cam_alg.overlay_heatmap(heatmap, preprocessed_img)\n",
    "repreprocessed_img = self.preprocess_image(self.image_w_grad_original, reversed_=True)\n"
   ]
  }
 ],
 "metadata": {
  "kernelspec": {
   "display_name": "Python 3",
   "language": "python",
   "name": "python3"
  },
  "language_info": {
   "codemirror_mode": {
    "name": "ipython",
    "version": 3
   },
   "file_extension": ".py",
   "mimetype": "text/x-python",
   "name": "python",
   "nbconvert_exporter": "python",
   "pygments_lexer": "ipython3",
   "version": "3.10.8"
  }
 },
 "nbformat": 4,
 "nbformat_minor": 2
}
